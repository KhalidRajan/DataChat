{
 "cells": [
  {
   "cell_type": "code",
   "execution_count": 47,
   "metadata": {},
   "outputs": [],
   "source": [
    "from dotenv import load_dotenv\n",
    "import os\n",
    "from llama_index.core import Settings\n",
    "from llama_index.llms.openai import OpenAI\n",
    "from llama_index.core import SimpleDirectoryReader\n",
    "import chromadb\n",
    "from llama_index.vector_stores.chroma import ChromaVectorStore\n",
    "from llama_index.core import StorageContext\n",
    "from llama_index.core import VectorStoreIndex"
   ]
  },
  {
   "cell_type": "code",
   "execution_count": 48,
   "metadata": {},
   "outputs": [
    {
     "data": {
      "text/plain": [
       "True"
      ]
     },
     "execution_count": 48,
     "metadata": {},
     "output_type": "execute_result"
    }
   ],
   "source": [
    "load_dotenv()"
   ]
  },
  {
   "cell_type": "code",
   "execution_count": 49,
   "metadata": {},
   "outputs": [],
   "source": [
    "api_key = os.environ[\"OPENAI_API_KEY\"]"
   ]
  },
  {
   "cell_type": "code",
   "execution_count": 50,
   "metadata": {},
   "outputs": [],
   "source": [
    "Settings.llm = OpenAI(model = \"gpt-4o-mini\")"
   ]
  },
  {
   "cell_type": "code",
   "execution_count": 51,
   "metadata": {},
   "outputs": [],
   "source": [
    "def load_documents(directory):\n",
    "    documents = SimpleDirectoryReader(directory).load_data()\n",
    "    return documents"
   ]
  },
  {
   "cell_type": "code",
   "execution_count": 52,
   "metadata": {},
   "outputs": [],
   "source": [
    "def create_index(db, documents, collection_name):\n",
    "    chroma_collection = db.get_or_create_collection(collection_name)\n",
    "    \n",
    "    vector_store = ChromaVectorStore(chroma_collection = chroma_collection)\n",
    "    storage_context = StorageContext.from_defaults(vector_store = vector_store)\n",
    "    \n",
    "    index = VectorStoreIndex.from_documents(\n",
    "        documents, storage_context = storage_context\n",
    "    )\n",
    "    return index\n",
    "\n"
   ]
  },
  {
   "cell_type": "code",
   "execution_count": 54,
   "metadata": {},
   "outputs": [],
   "source": [
    "docs = load_documents(\"./data\")\n",
    "db = chromadb.PersistentClient(path = \"./db\")\n",
    "index = create_index(db, docs, \"custom_files\")\n"
   ]
  },
  {
   "cell_type": "code",
   "execution_count": 55,
   "metadata": {},
   "outputs": [
    {
     "name": "stdout",
     "output_type": "stream",
     "text": [
      "This document contains the consolidated balance sheets of Alphabet Inc. as of December 31, 2023, and September 30, 2024. It details the company's assets, liabilities, and stockholders' equity, including current and non-current assets, current and long-term liabilities, and the breakdown of stockholders' equity components.\n"
     ]
    }
   ],
   "source": [
    "query_engine = index.as_query_engine()\n",
    "response = query_engine.query(\"What does this document contain?\")\n",
    "print(response)"
   ]
  },
  {
   "cell_type": "code",
   "execution_count": 56,
   "metadata": {},
   "outputs": [
    {
     "name": "stdout",
     "output_type": "stream",
     "text": [
      "Alphabet's revenue in Q3 2024 was $88.3 billion.\n"
     ]
    }
   ],
   "source": [
    "query_engine = index.as_query_engine()\n",
    "response = query_engine.query(\"What was Alphabet's revenue in Q3 2024?\")\n",
    "print(response)\n"
   ]
  },
  {
   "cell_type": "code",
   "execution_count": 57,
   "metadata": {},
   "outputs": [
    {
     "name": "stdout",
     "output_type": "stream",
     "text": [
      "Alphabet's revenue increased by 15% year over year in Q3 2024.\n"
     ]
    }
   ],
   "source": [
    "response = query_engine.query(\"How much did Alphabet's revenue increase yoy in Q3 2024?\")\n",
    "print(response)"
   ]
  },
  {
   "cell_type": "code",
   "execution_count": 58,
   "metadata": {},
   "outputs": [],
   "source": [
    "from llama_index.core.evaluation import FaithfulnessEvaluator\n",
    "from llama_index.core.evaluation import RelevancyEvaluator"
   ]
  },
  {
   "cell_type": "code",
   "execution_count": 59,
   "metadata": {},
   "outputs": [],
   "source": [
    "llm = OpenAI(model=\"gpt-4o-mini\", temperature=0.0)"
   ]
  },
  {
   "cell_type": "code",
   "execution_count": 60,
   "metadata": {},
   "outputs": [
    {
     "name": "stdout",
     "output_type": "stream",
     "text": [
      "1.0\n",
      "True\n",
      "1.0\n",
      "True\n"
     ]
    }
   ],
   "source": [
    "import nest_asyncio\n",
    "nest_asyncio.apply()\n",
    "\n",
    "faithfulness_evaluator = FaithfulnessEvaluator(llm = llm)\n",
    "eval_result = faithfulness_evaluator.evaluate_response(response=response)\n",
    "print(eval_result.score)\n",
    "print(eval_result.passing)\n",
    "\n",
    "nest_asyncio.apply()\n",
    "relevancy_evaluator = RelevancyEvaluator(llm=llm)\n",
    "eval_result = relevancy_evaluator.evaluate_response(query = \"How much did Alphabet's revenue increase yoy in Q3 2024?\", response=response)\n",
    "print(eval_result.score)\n",
    "print(eval_result.passing)\n",
    "\n"
   ]
  },
  {
   "cell_type": "code",
   "execution_count": 61,
   "metadata": {},
   "outputs": [
    {
     "data": {
      "text/plain": [
       "(1.0, True)"
      ]
     },
     "execution_count": 61,
     "metadata": {},
     "output_type": "execute_result"
    }
   ],
   "source": [
    "def evaluate_faithfulness(query, response) -> tuple[float, bool]:\n",
    "    faithfulness_evaluator = FaithfulnessEvaluator(llm = llm)\n",
    "    eval_result = faithfulness_evaluator.evaluate_response(query = query, response=response)\n",
    "    return (eval_result.score, eval_result.passing)\n",
    "\n",
    "evaluate_faithfulness(\"How much did Alphabet's revenue increase yoy in Q3 2024?\", response)"
   ]
  },
  {
   "cell_type": "code",
   "execution_count": 62,
   "metadata": {},
   "outputs": [
    {
     "data": {
      "text/plain": [
       "(1.0, True)"
      ]
     },
     "execution_count": 62,
     "metadata": {},
     "output_type": "execute_result"
    }
   ],
   "source": [
    "def evaluate_relevancy(query, response) -> tuple[float, bool]:\n",
    "    relevancy_evaluator = RelevancyEvaluator(llm=llm)\n",
    "    eval_result = relevancy_evaluator.evaluate_response(query = query, response=response)\n",
    "    return (eval_result.score, eval_result.passing)\n",
    "\n",
    "evaluate_relevancy(\"How much did Alphabet's revenue increase yoy in Q3 2024?\", response)"
   ]
  },
  {
   "cell_type": "code",
   "execution_count": null,
   "metadata": {},
   "outputs": [],
   "source": []
  }
 ],
 "metadata": {
  "kernelspec": {
   "display_name": "qa_bot_env",
   "language": "python",
   "name": "python3"
  },
  "language_info": {
   "codemirror_mode": {
    "name": "ipython",
    "version": 3
   },
   "file_extension": ".py",
   "mimetype": "text/x-python",
   "name": "python",
   "nbconvert_exporter": "python",
   "pygments_lexer": "ipython3",
   "version": "3.12.8"
  }
 },
 "nbformat": 4,
 "nbformat_minor": 2
}
