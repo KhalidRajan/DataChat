{
 "cells": [
  {
   "cell_type": "code",
   "execution_count": 33,
   "metadata": {},
   "outputs": [],
   "source": [
    "from llama_index.readers.web import SimpleWebPageReader\n",
    "import chromadb\n",
    "from llama_index.vector_stores.chroma import ChromaVectorStore\n",
    "from qa_bot import create_index"
   ]
  },
  {
   "cell_type": "code",
   "execution_count": 39,
   "metadata": {},
   "outputs": [],
   "source": [
    "documents = SimpleWebPageReader(html_to_text=True).load_data(\n",
    "    urls = [\"https://techcrunch.com/2025/01/13/microsoft-forms-new-internal-dev-focused-ai-org/\"]\n",
    ")"
   ]
  },
  {
   "cell_type": "code",
   "execution_count": 40,
   "metadata": {},
   "outputs": [
    {
     "data": {
      "text/plain": [
       "[Document(id_='https://techcrunch.com/2025/01/13/microsoft-forms-new-internal-dev-focused-ai-org/', embedding=None, metadata={}, excluded_embed_metadata_keys=[], excluded_llm_metadata_keys=[], relationships={}, metadata_template='{key}: {value}', metadata_separator='\\n', text_resource=MediaResource(embeddings=None, data=None, text='[ ![](https://techcrunch.com/wp-content/uploads/2024/09/tc-lockup.svg)\\nTechCrunch Desktop Logo ](https://techcrunch.com) [\\n![](https://techcrunch.com/wp-content/uploads/2024/09/tc-logo-mobile.svg)\\nTechCrunch Mobile Logo ](https://techcrunch.com)\\n\\n  * [Latest](/latest/)\\n  * [Startups](/category/startups/)\\n  * [Venture](/category/venture/)\\n  * [Apple](/tag/apple/)\\n  * [Security](/category/security/)\\n  * [AI](/category/artificial-intelligence/)\\n  * [Apps](/category/apps/)\\n\\n  * [Events](/events/)\\n  * [Podcasts](/podcasts/)\\n  * [Newsletters](/newsletters/)\\n\\n[ Sign In\\n](https://oidc.techcrunch.com/login/?dest=https%3A%2F%2Ftechcrunch.com%2F2025%2F01%2F13%2Fmicrosoft-\\nforms-new-internal-dev-focused-ai-org%2F) [ ](https://techcrunch.com/my-\\naccount/)\\n\\nSearch\\n\\nSubmit\\n\\n  * \\n\\nSite Search Toggle\\n\\nMega Menu Toggle\\n\\n### Topics\\n\\n[ Latest ](/latest/)\\n\\n[ AI ](/category/artificial-intelligence/)\\n\\n[ Amazon ](/tag/amazon/)\\n\\n[ Apps ](/category/apps/)\\n\\n[ Biotech & Health ](/category/biotech-health/)\\n\\n[ Climate ](/category/climate/)\\n\\n[ Cloud Computing ](/tag/cloud-computing/)\\n\\n[ Commerce ](/category/commerce/)\\n\\n[ Crypto ](/category/cryptocurrency/)\\n\\n[ Enterprise ](/category/enterprise/)\\n\\n[ EVs ](/tag/evs/)\\n\\n[ Fintech ](/category/fintech/)\\n\\n[ Fundraising ](/category/fundraising/)\\n\\n[ Gadgets ](/category/gadgets/)\\n\\n[ Gaming ](/category/gaming/)\\n\\n[ Google ](/tag/google/)\\n\\n[ Government & Policy ](/category/government-policy/)\\n\\n[ Hardware ](/category/hardware/)\\n\\n[ Instagram ](/tag/instagram/)\\n\\n[ Layoffs ](/tag/layoffs/)\\n\\n[ Media & Entertainment ](/category/media-entertainment/)\\n\\n[ Meta ](/tag/meta/)\\n\\n[ Microsoft ](/tag/microsoft/)\\n\\n[ Privacy ](/category/privacy/)\\n\\n[ Robotics ](/category/robotics/)\\n\\n[ Security ](/category/security/)\\n\\n[ Social ](/category/social/)\\n\\n[ Space ](/category/space/)\\n\\n[ Startups ](/category/startups/)\\n\\n[ TikTok ](/tag/tiktok/)\\n\\n[ Transportation ](/category/transportation/)\\n\\n[ Venture ](/category/venture/)\\n\\n### More from TechCrunch\\n\\n[ Events ](/events/)\\n\\n[ Startup Battlefield ](/startup-battlefield/)\\n\\n[ StrictlyVC ](https://strictlyvc.com/)\\n\\n[ Newsletters ](/newsletters/)\\n\\n[ Podcasts ](/podcasts/)\\n\\n[ Videos ](/video/)\\n\\n[ Partner Content ](/sponsored/)\\n\\n[ TechCrunch Brand Studio ](/brand-studio/)\\n\\n[ Crunchboard ](https://www.crunchboard.com/)\\n\\n[ Contact Us ](/contact-us/)\\n\\n[ Sign In\\n](https://oidc.techcrunch.com/login/?dest=https%3A%2F%2Ftechcrunch.com%2F2025%2F01%2F13%2Fmicrosoft-\\nforms-new-internal-dev-focused-ai-org%2F) [ ](https://techcrunch.com/my-\\naccount/)\\n\\n[\\n](https://www.facebook.com/sharer.php?u=https%3A%2F%2Ftechcrunch.com%2F2025%2F01%2F13%2Fmicrosoft-\\nforms-new-internal-dev-focused-ai-org%2F) [\\n](https://twitter.com/intent/tweet?url=https%3A%2F%2Ftechcrunch.com%2F2025%2F01%2F13%2Fmicrosoft-\\nforms-new-internal-dev-focused-ai-\\norg%2F&text=Microsoft+forms+new+internal+dev-focused+AI+org&via=techcrunch) [\\n](https://www.linkedin.com/shareArticle?url=https%3A%2F%2Ftechcrunch.com%2F2025%2F01%2F13%2Fmicrosoft-\\nforms-new-internal-dev-focused-ai-\\norg%2F&title=Microsoft+forms+new+internal+dev-\\nfocused+AI+org&summary=Microsoft+has+created+a+new+engineering+organization+aimed+at+accelerating+AI+infrastructure+and+software+development+within+the+company.+According+to+Bloomberg%2C+Jay+Parikh%2C+previously+VP+and+global+head+of+engineering+at+Meta%2C+will+lead+the+new+division.+He%E2%80%99ll+report+to+Microsoft+CEO+Satya+Nadella+and+oversee+groups%2C+including+the+company%E2%80%99s+AI+platform+and+developer+teams.+%5B%E2%80%A6%5D&mini=1&source=TechCrunch)\\n[\\n](https://www.reddit.com/submit?url=https%3A%2F%2Ftechcrunch.com%2F2025%2F01%2F13%2Fmicrosoft-\\nforms-new-internal-dev-focused-ai-\\norg%2F&title=Microsoft+forms+new+internal+dev-focused+AI+org) [\\n](mailto:?subject=Microsoft+forms+new+internal+dev-\\nfocused+AI+org&body=Article%3A+https%3A%2F%2Ftechcrunch.com%2F2025%2F01%2F13%2Fmicrosoft-\\nforms-new-internal-dev-focused-ai-org%2F) [\\n](https://techcrunch.com/2025/01/13/microsoft-forms-new-internal-dev-focused-\\nai-org/)\\n\\nIn Brief\\n\\nPosted:\\n\\n2:56 PM PST · January 13, 2025\\n\\n![Microsoft CEO Satya Nadella gestures during a session at the World Economic\\nForum \\\\(WEF\\\\) annual meeting in Davos, on January 16,\\n2024.](https://techcrunch.com/wp-\\ncontent/uploads/2024/02/GettyImages-1930518491.jpg?w=1024)**Image Credits:**\\nFabrice Coffrini / AFP / Getty Images\\n\\n  * ![Kyle Wiggers](https://techcrunch.com/wp-content/uploads/2022/03/Kyle-Wiggers.jpg)\\n\\n  * [Kyle Wiggers](https://techcrunch.com/author/kyle-wiggers/)\\n\\n# Microsoft forms new internal dev-focused AI org\\n\\nMicrosoft has created a new engineering organization aimed at accelerating AI\\ninfrastructure and software development within the company.\\n\\n[According](https://www.bloomberg.com/news/articles/2025-01-13/microsoft-says-\\nrecent-hire-parikh-will-oversee-new-ai-engineering-group?embedded-\\ncheckout=true) to Bloomberg, Jay Parikh, previously VP and global head of\\nengineering at Meta, will lead the new division. He\\'ll report to Microsoft CEO\\nSatya Nadella and oversee groups, including the company\\'s AI platform and\\ndeveloper teams.\\n\\nParikh worked on technical infrastructure and data center projects at Meta.\\nBefore joining Microsoft in October, he was appointed the CEO of cloud\\nsecurity startup Lacework.\\n\\nThe new org, called CoreAI — Platform and Tools, is actually a combination of\\nMicrosoft\\'s existing Dev Div and AI platform teams, The Verge\\n[reports](https://www.theverge.com/2025/1/13/24342793/microsoft-ai-\\nengineering-group-coreai-jay-parikh), along with some employees in the Office\\nof the CTO division. CoreAI effectively rejiggers Microsoft\\'s developer teams\\nto ensure AI remains a top priority.\\n\\nIn an internal memo published on Microsoft\\'s\\n[blog](https://blogs.microsoft.com/blog/2025/01/13/introducing-core-ai-\\nplatform-and-tools/), Nadella said that Microsoft\\'s focus for the coming year\\nwill be \"model-forward\" applications that \"reshape all application\\ncategories.\"\\n\\nTopics\\n\\n[.org](https://techcrunch.com/tag/org/),\\n[AI](https://techcrunch.com/category/artificial-intelligence/),\\n[AI](https://techcrunch.com/tag/ai/),\\n[Enterprise](https://techcrunch.com/category/enterprise/), [In\\nBrief](https://techcrunch.com/tag/in-brief/),\\n[Microsoft](https://techcrunch.com/tag/microsoft/),\\n[reorg](https://techcrunch.com/tag/reorg/),\\n[team](https://techcrunch.com/tag/team/)\\n\\n### Newsletters\\n\\n[See More](https://techcrunch.com/newsletters/)\\n\\nSubscribe for the industry’s biggest tech news\\n\\n##### TechCrunch Daily News\\n\\nEvery weekday and Sunday, you can get the best of TechCrunch’s coverage.\\n\\n##### TechCrunch AI\\n\\nTechCrunch\\'s AI experts cover the latest news in the fast-moving field.\\n\\n##### TechCrunch Space\\n\\nEvery Monday, gets you up to speed on the latest advances in aerospace.\\n\\n##### Startups Weekly\\n\\nStartups are the core of TechCrunch, so get our best coverage delivered\\nweekly.\\n\\nNo newsletters selected.\\n\\nSubscribe\\n\\nBy submitting your email, you agree to our\\n[Terms](https://legal.yahoo.com/us/en/yahoo/terms/otos/index.html) and\\n[Privacy Notice](https://legal.yahoo.com/us/en/yahoo/privacy/index.html).\\n\\n## Related\\n\\n  * ![](https://techcrunch.com/wp-content/uploads/2025/01/GettyImages-2183088712.jpg?w=563)\\n\\nIn Brief\\n\\n###\\n\\n[China is reportedly open to Elon Musk acquiring TikTok\\nUS](https://techcrunch.com/2025/01/13/china-is-reportedly-open-to-elon-musk-\\nacquiring-tiktok-us/)\\n\\n    * [Maxwell Zeff](https://techcrunch.com/author/maxwell-zeff/)\\n2 hours ago\\n\\n  * ![TOPSHOT - OpenAI CEO Sam Altman speaks during the Microsoft Build conference at the Seattle Convention Center Summit Building in Seattle, Washington on May 21, 2024. \\\\(Photo by JASON REDMOND/AFP via Getty Images\\\\)](https://techcrunch.com/wp-content/uploads/2024/11/GettyImages-2153474303-e.jpg?w=563)\\n\\n[Government & Policy](https://techcrunch.com/category/government-policy/)\\n\\n###  [OpenAI presents its preferred version of AI regulation in a new\\n\\'blueprint\\'](https://techcrunch.com/2025/01/13/openai-presents-its-preferred-\\nversion-of-ai-regulation-in-a-new-blueprint/)\\n\\n    * [Kyle Wiggers](https://techcrunch.com/author/kyle-wiggers/)\\n7 hours ago\\n\\n  * ![Blaize CEO Dinakar Munagala](https://techcrunch.com/wp-content/uploads/2025/01/Dinakar-Munagala-CEO-02.jpg?w=359)\\n\\n[AI](https://techcrunch.com/category/artificial-intelligence/)\\n\\n###  [The first AI chip startup to go public in 2025 will be\\nBlaize](https://techcrunch.com/2025/01/13/the-first-ai-chip-startup-to-go-\\npublic-in-2025-will-be-blaize/)\\n\\n    * [Charles Rollet](https://techcrunch.com/author/charles-rollet/)\\n8 hours ago\\n\\n## Latest in AI\\n\\n[See More](https://techcrunch.com/category/artificial-intelligence/)\\n\\n  * ![Microsoft CEO Satya Nadella gestures during a session at the World Economic Forum \\\\(WEF\\\\) annual meeting in Davos, on January 16, 2024.](https://techcrunch.com/wp-content/uploads/2024/02/GettyImages-1930518491.jpg?w=563)\\n\\nIn Brief\\n\\n###\\n\\n[Microsoft forms new internal dev-focused AI\\norg](https://techcrunch.com/2025/01/13/microsoft-forms-new-internal-dev-\\nfocused-ai-org/)\\n\\n    * [Kyle Wiggers](https://techcrunch.com/author/kyle-wiggers/)\\n4 hours ago\\n\\n  * ![TOPSHOT - OpenAI CEO Sam Altman speaks during the Microsoft Build conference at the Seattle Convention Center Summit Building in Seattle, Washington on May 21, 2024. \\\\(Photo by JASON REDMOND/AFP via Getty Images\\\\)](https://techcrunch.com/wp-content/uploads/2024/11/GettyImages-2153474303-e.jpg?w=563)\\n\\n[Government & Policy](https://techcrunch.com/category/government-policy/)\\n\\n###  [OpenAI presents its preferred version of AI regulation in a new\\n\\'blueprint\\'](https://techcrunch.com/2025/01/13/openai-presents-its-preferred-\\nversion-of-ai-regulation-in-a-new-blueprint/)\\n\\n    * [Kyle Wiggers](https://techcrunch.com/author/kyle-wiggers/)\\n7 hours ago\\n\\n  * ![Blaize CEO Dinakar Munagala](https://techcrunch.com/wp-content/uploads/2025/01/Dinakar-Munagala-CEO-02.jpg?w=359)\\n\\n[AI](https://techcrunch.com/category/artificial-intelligence/)\\n\\n###  [The first AI chip startup to go public in 2025 will be\\nBlaize](https://techcrunch.com/2025/01/13/the-first-ai-chip-startup-to-go-\\npublic-in-2025-will-be-blaize/)\\n\\n    * [Charles Rollet](https://techcrunch.com/author/charles-rollet/)\\n8 hours ago\\n\\n[![TechCrunch Logo](https://techcrunch.com/wp-\\ncontent/themes/tc-24/dist/svg/tc-logo.svg)](https://techcrunch.com)\\n\\n  * [X](https://twitter.com/techcrunch)\\n  * [LinkedIn](https://www.linkedin.com/company/techcrunch)\\n  * [Facebook](https://www.facebook.com/techcrunch)\\n  * [Instagram](https://instagram.com/techcrunch)\\n  * [youTube](https://www.youtube.com/user/techcrunch)\\n  * [Mastodon](https://mstdn.social/@TechCrunch)\\n  * [Threads](https://www.threads.net/@techcrunch)\\n  * [Bluesky](https://bsky.app/profile/techcrunch.com)\\n\\n  * [TechCrunch](https://techcrunch.com/)\\n  * [Staff](https://techcrunch.com/about-techcrunch/)\\n  * [Contact Us](https://techcrunch.com/contact-us/)\\n  * [Advertise](https://techcrunch.com/advertise/)\\n  * [Crunchboard Jobs](https://www.crunchboard.com/)\\n  * [Site Map](https://techcrunch.com/site-map/)\\n\\n  * [Terms of Service](https://guce.techcrunch.com/terms)\\n  * [Privacy Policy](https://guce.techcrunch.com/privacy-policy)\\n  * [RSS Terms of Use](https://techcrunch.com/rss-terms-of-use/)\\n  * Privacy Placeholder 1\\n  * Privacy Placeholder 2\\n  * Privacy Placeholder 3\\n  * Privacy Placeholder 4\\n  * [Code of Conduct](https://techcrunch.com/code-of-conduct/)\\n  * [About Our Ads](https://legal.yahoo.com/us/en/yahoo/privacy/adinfo/index.html)\\n\\n  * [Sonos CEO](https://techcrunch.com/2025/01/13/sonos-ceo-patrick-spence-is-leaving-following-app-update-disaster/)\\n  * [Facebook](https://techcrunch.com/2025/01/10/how-to-delete-facebook-instagram-and-threads/)\\n  * [Tesla](https://techcrunch.com/2025/01/13/biden-admin-snubs-teslas-100-million-big-rig-charging-funding-request-again/)\\n  * [Blue Origin](https://techcrunch.com/2025/01/13/blue-origin-delays-launch-of-new-glenn-mega-rocket/)\\n  * [Xiaohongshu](https://techcrunch.com/2025/01/13/xiaohongshu-chinas-answer-to-instagram-hits-no-1-on-the-app-store-as-tiktok-faces-us-shutdown/)\\n  * [Tech Layoffs](https://techcrunch.com/2024/12/04/tech-layoffs-2024-list/)\\n  * [ChatGPT](https://techcrunch.com/2024/12/09/chatgpt-everything-to-know-about-the-ai-chatbot/)\\n\\n© 2024 Yahoo.\\n\\n', path=None, url=None, mimetype=None), image_resource=None, audio_resource=None, video_resource=None, text_template='{metadata_str}\\n\\n{content}')]"
      ]
     },
     "execution_count": 40,
     "metadata": {},
     "output_type": "execute_result"
    }
   ],
   "source": [
    "documents"
   ]
  },
  {
   "cell_type": "code",
   "execution_count": 41,
   "metadata": {},
   "outputs": [],
   "source": [
    "db = chromadb.PersistentClient(path = \"./db\")"
   ]
  },
  {
   "cell_type": "code",
   "execution_count": 42,
   "metadata": {},
   "outputs": [],
   "source": [
    "import uuid\n",
    "\n",
    "# Generate a random UUID\n",
    "random_uuid = str(uuid.uuid4())"
   ]
  },
  {
   "cell_type": "code",
   "execution_count": 44,
   "metadata": {},
   "outputs": [
    {
     "name": "stdout",
     "output_type": "stream",
     "text": [
      "Jay Parikh will lead Microsoft's new AI organization, CoreAI — Platform and Tools.\n"
     ]
    }
   ],
   "source": [
    "db = chromadb.PersistentClient(path = \"./db\")\n",
    "index = create_index(db, documents, random_uuid)\n",
    "query_engine = index.as_query_engine()\n",
    "response = query_engine.query(\"Who will lead Microsoft's new AI org?\")\n",
    "print(response)"
   ]
  },
  {
   "cell_type": "code",
   "execution_count": 45,
   "metadata": {},
   "outputs": [],
   "source": [
    "def generate_random_uuid():\n",
    "    return str(uuid.uuid4())\n"
   ]
  },
  {
   "cell_type": "code",
   "execution_count": 46,
   "metadata": {},
   "outputs": [],
   "source": [
    "def scrape_webpage(url):\n",
    "    documents = SimpleWebPageReader(html_to_text=True).load_data(\n",
    "        urls = [url]\n",
    "    )\n",
    "    return documents\n"
   ]
  },
  {
   "cell_type": "code",
   "execution_count": null,
   "metadata": {},
   "outputs": [],
   "source": []
  }
 ],
 "metadata": {
  "kernelspec": {
   "display_name": "qa_bot_env",
   "language": "python",
   "name": "python3"
  },
  "language_info": {
   "codemirror_mode": {
    "name": "ipython",
    "version": 3
   },
   "file_extension": ".py",
   "mimetype": "text/x-python",
   "name": "python",
   "nbconvert_exporter": "python",
   "pygments_lexer": "ipython3",
   "version": "3.12.8"
  }
 },
 "nbformat": 4,
 "nbformat_minor": 2
}
